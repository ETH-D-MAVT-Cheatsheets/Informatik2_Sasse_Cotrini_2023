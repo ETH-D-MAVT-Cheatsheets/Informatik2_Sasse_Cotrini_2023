{
 "cells": [
  {
   "cell_type": "code",
   "execution_count": 3,
   "metadata": {},
   "outputs": [],
   "source": [
    "import numpy as np\n",
    "\n",
    "A = np.array([[1,2,3],[4,5,6],[7,8,9]])"
   ]
  },
  {
   "cell_type": "code",
   "execution_count": 6,
   "metadata": {},
   "outputs": [
    {
     "name": "stdout",
     "output_type": "stream",
     "text": [
      "[[1 2 3]\n",
      " [4 5 6]\n",
      " [7 8 9]] [[2 3]\n",
      " [5 6]]\n"
     ]
    }
   ],
   "source": [
    "B = A[0:2, 1:3]\n",
    "print(A, B)"
   ]
  },
  {
   "cell_type": "code",
   "execution_count": 7,
   "metadata": {},
   "outputs": [
    {
     "data": {
      "text/plain": [
       "array([3, 6, 9])"
      ]
     },
     "execution_count": 7,
     "metadata": {},
     "output_type": "execute_result"
    }
   ],
   "source": [
    "A[:,2]"
   ]
  },
  {
   "cell_type": "code",
   "execution_count": 2,
   "metadata": {},
   "outputs": [
    {
     "name": "stdout",
     "output_type": "stream",
     "text": [
      "[[-1, -1], [-1, -1], [-1, -1], [-1, -1], [-1, -1]]\n"
     ]
    }
   ],
   "source": [
    "M = [[-1 for i in range(2)] for j in range(5)]\n",
    "print(M)"
   ]
  },
  {
   "cell_type": "code",
   "execution_count": 25,
   "metadata": {},
   "outputs": [
    {
     "name": "stdout",
     "output_type": "stream",
     "text": [
      "4 2\n"
     ]
    }
   ],
   "source": [
    "class Parent:\n",
    "    def __init__(self, x1):\n",
    "        self.x = x1\n",
    "    def double_x(self):\n",
    "        self.x *= 2\n",
    "\n",
    "class Child(Parent):\n",
    "    def __init__(self, x1, y1):\n",
    "        Parent.__init__(self, x1)\n",
    "        self.y = y1\n",
    "    def double_y(self):\n",
    "        self.y *= 2\n",
    "\n",
    "c = Child(2, 2)\n",
    "c.double_x()\n",
    "print(c.x, c.y) #Output: 4 2"
   ]
  }
 ],
 "metadata": {
  "kernelspec": {
   "display_name": "Python 3",
   "language": "python",
   "name": "python3"
  },
  "language_info": {
   "codemirror_mode": {
    "name": "ipython",
    "version": 3
   },
   "file_extension": ".py",
   "mimetype": "text/x-python",
   "name": "python",
   "nbconvert_exporter": "python",
   "pygments_lexer": "ipython3",
   "version": "3.10.11"
  },
  "orig_nbformat": 4
 },
 "nbformat": 4,
 "nbformat_minor": 2
}
